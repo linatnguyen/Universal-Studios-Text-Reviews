{
 "cells": [
  {
   "cell_type": "code",
   "execution_count": 177,
   "id": "5cb84dc5",
   "metadata": {},
   "outputs": [],
   "source": [
    "import numpy as np\n",
    "import pandas as pd\n",
    "import matplotlib.pyplot as plt\n",
    "import seaborn as sns\n",
    "from sklearn import preprocessing"
   ]
  },
  {
   "cell_type": "code",
   "execution_count": 30,
   "id": "d327b1c0",
   "metadata": {},
   "outputs": [
    {
     "data": {
      "text/html": [
       "<div>\n",
       "<style scoped>\n",
       "    .dataframe tbody tr th:only-of-type {\n",
       "        vertical-align: middle;\n",
       "    }\n",
       "\n",
       "    .dataframe tbody tr th {\n",
       "        vertical-align: top;\n",
       "    }\n",
       "\n",
       "    .dataframe thead th {\n",
       "        text-align: right;\n",
       "    }\n",
       "</style>\n",
       "<table border=\"1\" class=\"dataframe\">\n",
       "  <thead>\n",
       "    <tr style=\"text-align: right;\">\n",
       "      <th></th>\n",
       "      <th>reviewer</th>\n",
       "      <th>rating</th>\n",
       "      <th>written_date</th>\n",
       "      <th>title</th>\n",
       "      <th>review_text</th>\n",
       "      <th>branch</th>\n",
       "    </tr>\n",
       "  </thead>\n",
       "  <tbody>\n",
       "    <tr>\n",
       "      <th>0</th>\n",
       "      <td>Kelly B</td>\n",
       "      <td>2.0</td>\n",
       "      <td>May 30, 2021</td>\n",
       "      <td>Universal is a complete Disaster - stick with ...</td>\n",
       "      <td>We went to Universal over Memorial Day weekend...</td>\n",
       "      <td>Universal Studios Florida</td>\n",
       "    </tr>\n",
       "    <tr>\n",
       "      <th>1</th>\n",
       "      <td>Jon</td>\n",
       "      <td>1.0</td>\n",
       "      <td>May 30, 2021</td>\n",
       "      <td>Food is hard to get.</td>\n",
       "      <td>The food service is horrible. I’m not reviewin...</td>\n",
       "      <td>Universal Studios Florida</td>\n",
       "    </tr>\n",
       "    <tr>\n",
       "      <th>2</th>\n",
       "      <td>Nerdy P</td>\n",
       "      <td>2.0</td>\n",
       "      <td>May 30, 2021</td>\n",
       "      <td>Disappointed</td>\n",
       "      <td>I booked this vacation mainly to ride Hagrid m...</td>\n",
       "      <td>Universal Studios Florida</td>\n",
       "    </tr>\n",
       "    <tr>\n",
       "      <th>3</th>\n",
       "      <td>ran101278</td>\n",
       "      <td>4.0</td>\n",
       "      <td>May 29, 2021</td>\n",
       "      <td>My opinion</td>\n",
       "      <td>When a person tries the test seat for the ride...</td>\n",
       "      <td>Universal Studios Florida</td>\n",
       "    </tr>\n",
       "    <tr>\n",
       "      <th>4</th>\n",
       "      <td>tammies20132015</td>\n",
       "      <td>5.0</td>\n",
       "      <td>May 28, 2021</td>\n",
       "      <td>The Bourne Stuntacular...MUST SEE</td>\n",
       "      <td>Ok, I can't stress enough to anyone and everyo...</td>\n",
       "      <td>Universal Studios Florida</td>\n",
       "    </tr>\n",
       "  </tbody>\n",
       "</table>\n",
       "</div>"
      ],
      "text/plain": [
       "          reviewer  rating  written_date  \\\n",
       "0          Kelly B     2.0  May 30, 2021   \n",
       "1              Jon     1.0  May 30, 2021   \n",
       "2          Nerdy P     2.0  May 30, 2021   \n",
       "3        ran101278     4.0  May 29, 2021   \n",
       "4  tammies20132015     5.0  May 28, 2021   \n",
       "\n",
       "                                               title  \\\n",
       "0  Universal is a complete Disaster - stick with ...   \n",
       "1                               Food is hard to get.   \n",
       "2                                       Disappointed   \n",
       "3                                         My opinion   \n",
       "4                  The Bourne Stuntacular...MUST SEE   \n",
       "\n",
       "                                         review_text  \\\n",
       "0  We went to Universal over Memorial Day weekend...   \n",
       "1  The food service is horrible. I’m not reviewin...   \n",
       "2  I booked this vacation mainly to ride Hagrid m...   \n",
       "3  When a person tries the test seat for the ride...   \n",
       "4  Ok, I can't stress enough to anyone and everyo...   \n",
       "\n",
       "                      branch  \n",
       "0  Universal Studios Florida  \n",
       "1  Universal Studios Florida  \n",
       "2  Universal Studios Florida  \n",
       "3  Universal Studios Florida  \n",
       "4  Universal Studios Florida  "
      ]
     },
     "execution_count": 30,
     "metadata": {},
     "output_type": "execute_result"
    }
   ],
   "source": [
    "universal = pd.read_csv('/Users/linanguyen/Desktop/universal_studio_branches.csv')\n",
    "universal.head()"
   ]
  },
  {
   "cell_type": "code",
   "execution_count": 31,
   "id": "1c5d3688",
   "metadata": {},
   "outputs": [
    {
     "data": {
      "text/plain": [
       "reviewer        0\n",
       "rating          0\n",
       "written_date    0\n",
       "title           0\n",
       "review_text     0\n",
       "branch          0\n",
       "dtype: int64"
      ]
     },
     "execution_count": 31,
     "metadata": {},
     "output_type": "execute_result"
    }
   ],
   "source": [
    "#checking for null values\n",
    "universal.isnull().sum()\n"
   ]
  },
  {
   "cell_type": "code",
   "execution_count": 32,
   "id": "1c1e851b",
   "metadata": {},
   "outputs": [
    {
     "data": {
      "text/plain": [
       "reviewer        44086\n",
       "rating              5\n",
       "written_date     4276\n",
       "title           37522\n",
       "review_text     50847\n",
       "branch              3\n",
       "dtype: int64"
      ]
     },
     "execution_count": 32,
     "metadata": {},
     "output_type": "execute_result"
    }
   ],
   "source": [
    "#check for unique values \n",
    "universal.nunique()"
   ]
  },
  {
   "cell_type": "code",
   "execution_count": 33,
   "id": "a77a0c04",
   "metadata": {},
   "outputs": [
    {
     "data": {
      "text/plain": [
       "(50904, 6)"
      ]
     },
     "execution_count": 33,
     "metadata": {},
     "output_type": "execute_result"
    }
   ],
   "source": [
    "#checking for shape\n",
    "universal.shape"
   ]
  },
  {
   "cell_type": "code",
   "execution_count": 34,
   "id": "727f3e75",
   "metadata": {},
   "outputs": [
    {
     "data": {
      "text/plain": [
       "reviewer         object\n",
       "rating          float64\n",
       "written_date     object\n",
       "title            object\n",
       "review_text      object\n",
       "branch           object\n",
       "dtype: object"
      ]
     },
     "execution_count": 34,
     "metadata": {},
     "output_type": "execute_result"
    }
   ],
   "source": [
    "#checking for data types\n",
    "universal['rating'] = pd.to_numeric(df['rating'])\n",
    "universal.dtypes"
   ]
  },
  {
   "cell_type": "code",
   "execution_count": 35,
   "id": "2aac74e9",
   "metadata": {},
   "outputs": [
    {
     "data": {
      "text/html": [
       "<div>\n",
       "<style scoped>\n",
       "    .dataframe tbody tr th:only-of-type {\n",
       "        vertical-align: middle;\n",
       "    }\n",
       "\n",
       "    .dataframe tbody tr th {\n",
       "        vertical-align: top;\n",
       "    }\n",
       "\n",
       "    .dataframe thead th {\n",
       "        text-align: right;\n",
       "    }\n",
       "</style>\n",
       "<table border=\"1\" class=\"dataframe\">\n",
       "  <thead>\n",
       "    <tr style=\"text-align: right;\">\n",
       "      <th></th>\n",
       "      <th>reviewer</th>\n",
       "      <th>rating</th>\n",
       "      <th>written_date</th>\n",
       "      <th>title</th>\n",
       "      <th>review_text</th>\n",
       "      <th>branch</th>\n",
       "    </tr>\n",
       "  </thead>\n",
       "  <tbody>\n",
       "    <tr>\n",
       "      <th>0</th>\n",
       "      <td>Kelly B</td>\n",
       "      <td>2.0</td>\n",
       "      <td>2021-05-30</td>\n",
       "      <td>Universal is a complete Disaster - stick with ...</td>\n",
       "      <td>We went to Universal over Memorial Day weekend...</td>\n",
       "      <td>Universal Studios Florida</td>\n",
       "    </tr>\n",
       "    <tr>\n",
       "      <th>1</th>\n",
       "      <td>Jon</td>\n",
       "      <td>1.0</td>\n",
       "      <td>2021-05-30</td>\n",
       "      <td>Food is hard to get.</td>\n",
       "      <td>The food service is horrible. I’m not reviewin...</td>\n",
       "      <td>Universal Studios Florida</td>\n",
       "    </tr>\n",
       "    <tr>\n",
       "      <th>2</th>\n",
       "      <td>Nerdy P</td>\n",
       "      <td>2.0</td>\n",
       "      <td>2021-05-30</td>\n",
       "      <td>Disappointed</td>\n",
       "      <td>I booked this vacation mainly to ride Hagrid m...</td>\n",
       "      <td>Universal Studios Florida</td>\n",
       "    </tr>\n",
       "    <tr>\n",
       "      <th>3</th>\n",
       "      <td>ran101278</td>\n",
       "      <td>4.0</td>\n",
       "      <td>2021-05-29</td>\n",
       "      <td>My opinion</td>\n",
       "      <td>When a person tries the test seat for the ride...</td>\n",
       "      <td>Universal Studios Florida</td>\n",
       "    </tr>\n",
       "    <tr>\n",
       "      <th>4</th>\n",
       "      <td>tammies20132015</td>\n",
       "      <td>5.0</td>\n",
       "      <td>2021-05-28</td>\n",
       "      <td>The Bourne Stuntacular...MUST SEE</td>\n",
       "      <td>Ok, I can't stress enough to anyone and everyo...</td>\n",
       "      <td>Universal Studios Florida</td>\n",
       "    </tr>\n",
       "  </tbody>\n",
       "</table>\n",
       "</div>"
      ],
      "text/plain": [
       "          reviewer  rating written_date  \\\n",
       "0          Kelly B     2.0   2021-05-30   \n",
       "1              Jon     1.0   2021-05-30   \n",
       "2          Nerdy P     2.0   2021-05-30   \n",
       "3        ran101278     4.0   2021-05-29   \n",
       "4  tammies20132015     5.0   2021-05-28   \n",
       "\n",
       "                                               title  \\\n",
       "0  Universal is a complete Disaster - stick with ...   \n",
       "1                               Food is hard to get.   \n",
       "2                                       Disappointed   \n",
       "3                                         My opinion   \n",
       "4                  The Bourne Stuntacular...MUST SEE   \n",
       "\n",
       "                                         review_text  \\\n",
       "0  We went to Universal over Memorial Day weekend...   \n",
       "1  The food service is horrible. I’m not reviewin...   \n",
       "2  I booked this vacation mainly to ride Hagrid m...   \n",
       "3  When a person tries the test seat for the ride...   \n",
       "4  Ok, I can't stress enough to anyone and everyo...   \n",
       "\n",
       "                      branch  \n",
       "0  Universal Studios Florida  \n",
       "1  Universal Studios Florida  \n",
       "2  Universal Studios Florida  \n",
       "3  Universal Studios Florida  \n",
       "4  Universal Studios Florida  "
      ]
     },
     "execution_count": 35,
     "metadata": {},
     "output_type": "execute_result"
    }
   ],
   "source": [
    "#changing written data to actual date\n",
    "universal['written_date'] = pd.to_datetime(universal['written_date'])\n",
    "universal.head()"
   ]
  },
  {
   "cell_type": "code",
   "execution_count": 36,
   "id": "b1071adb",
   "metadata": {},
   "outputs": [
    {
     "data": {
      "text/plain": [
       "Text(0.5, 1.0, 'Frequency of Universal Studio Ratings')"
      ]
     },
     "execution_count": 36,
     "metadata": {},
     "output_type": "execute_result"
    },
    {
     "data": {
      "image/png": "[encoded data removed]",
      "text/plain": [
       "<Figure size 432x288 with 1 Axes>"
      ]
     },
     "metadata": {
      "needs_background": "light"
     },
     "output_type": "display_data"
    }
   ],
   "source": [
    "#frequency of ratings\n",
    "rating = df['rating']\n",
    "fig, ax = plt.subplots()\n",
    "rating.value_counts().plot(ax=ax, kind = 'bar')\n",
    "plt.xlabel('Ratings')\n",
    "plt.ylabel('Frequency')\n",
    "plt.title('Frequency of Universal Studio Ratings')"
   ]
  },
  {
   "cell_type": "code",
   "execution_count": 37,
   "id": "22f11642",
   "metadata": {},
   "outputs": [
    {
     "data": {
      "text/plain": [
       "5.0    28202\n",
       "4.0    13514\n",
       "3.0     5229\n",
       "2.0     1986\n",
       "1.0     1973\n",
       "Name: rating, dtype: int64"
      ]
     },
     "execution_count": 37,
     "metadata": {},
     "output_type": "execute_result"
    }
   ],
   "source": [
    "#view value counts\n",
    "rating.value_counts()"
   ]
  },
  {
   "cell_type": "code",
   "execution_count": 49,
   "id": "8fb8bf6e",
   "metadata": {},
   "outputs": [
    {
     "data": {
      "text/html": [
       "<div>\n",
       "<style scoped>\n",
       "    .dataframe tbody tr th:only-of-type {\n",
       "        vertical-align: middle;\n",
       "    }\n",
       "\n",
       "    .dataframe tbody tr th {\n",
       "        vertical-align: top;\n",
       "    }\n",
       "\n",
       "    .dataframe thead th {\n",
       "        text-align: right;\n",
       "    }\n",
       "</style>\n",
       "<table border=\"1\" class=\"dataframe\">\n",
       "  <thead>\n",
       "    <tr style=\"text-align: right;\">\n",
       "      <th></th>\n",
       "      <th>reviewer</th>\n",
       "      <th>rating</th>\n",
       "      <th>written_date</th>\n",
       "      <th>title</th>\n",
       "      <th>review_text</th>\n",
       "      <th>branch</th>\n",
       "      <th>year</th>\n",
       "      <th>day</th>\n",
       "      <th>month</th>\n",
       "    </tr>\n",
       "  </thead>\n",
       "  <tbody>\n",
       "    <tr>\n",
       "      <th>0</th>\n",
       "      <td>Kelly B</td>\n",
       "      <td>2.0</td>\n",
       "      <td>2021-05-30</td>\n",
       "      <td>Universal is a complete Disaster - stick with ...</td>\n",
       "      <td>We went to Universal over Memorial Day weekend...</td>\n",
       "      <td>Universal Studios Florida</td>\n",
       "      <td>2021</td>\n",
       "      <td>30</td>\n",
       "      <td>5</td>\n",
       "    </tr>\n",
       "    <tr>\n",
       "      <th>1</th>\n",
       "      <td>Jon</td>\n",
       "      <td>1.0</td>\n",
       "      <td>2021-05-30</td>\n",
       "      <td>Food is hard to get.</td>\n",
       "      <td>The food service is horrible. I’m not reviewin...</td>\n",
       "      <td>Universal Studios Florida</td>\n",
       "      <td>2021</td>\n",
       "      <td>30</td>\n",
       "      <td>5</td>\n",
       "    </tr>\n",
       "    <tr>\n",
       "      <th>2</th>\n",
       "      <td>Nerdy P</td>\n",
       "      <td>2.0</td>\n",
       "      <td>2021-05-30</td>\n",
       "      <td>Disappointed</td>\n",
       "      <td>I booked this vacation mainly to ride Hagrid m...</td>\n",
       "      <td>Universal Studios Florida</td>\n",
       "      <td>2021</td>\n",
       "      <td>30</td>\n",
       "      <td>5</td>\n",
       "    </tr>\n",
       "    <tr>\n",
       "      <th>3</th>\n",
       "      <td>ran101278</td>\n",
       "      <td>4.0</td>\n",
       "      <td>2021-05-29</td>\n",
       "      <td>My opinion</td>\n",
       "      <td>When a person tries the test seat for the ride...</td>\n",
       "      <td>Universal Studios Florida</td>\n",
       "      <td>2021</td>\n",
       "      <td>29</td>\n",
       "      <td>5</td>\n",
       "    </tr>\n",
       "    <tr>\n",
       "      <th>4</th>\n",
       "      <td>tammies20132015</td>\n",
       "      <td>5.0</td>\n",
       "      <td>2021-05-28</td>\n",
       "      <td>The Bourne Stuntacular...MUST SEE</td>\n",
       "      <td>Ok, I can't stress enough to anyone and everyo...</td>\n",
       "      <td>Universal Studios Florida</td>\n",
       "      <td>2021</td>\n",
       "      <td>28</td>\n",
       "      <td>5</td>\n",
       "    </tr>\n",
       "    <tr>\n",
       "      <th>...</th>\n",
       "      <td>...</td>\n",
       "      <td>...</td>\n",
       "      <td>...</td>\n",
       "      <td>...</td>\n",
       "      <td>...</td>\n",
       "      <td>...</td>\n",
       "      <td>...</td>\n",
       "      <td>...</td>\n",
       "      <td>...</td>\n",
       "    </tr>\n",
       "    <tr>\n",
       "      <th>50899</th>\n",
       "      <td>vinz20</td>\n",
       "      <td>4.0</td>\n",
       "      <td>2010-03-29</td>\n",
       "      <td>I'll Be Back Only If ...</td>\n",
       "      <td>This is my first visit to a Universal Studio t...</td>\n",
       "      <td>Universal Studios Singapore</td>\n",
       "      <td>2010</td>\n",
       "      <td>29</td>\n",
       "      <td>3</td>\n",
       "    </tr>\n",
       "    <tr>\n",
       "      <th>50900</th>\n",
       "      <td>betty l</td>\n",
       "      <td>4.0</td>\n",
       "      <td>2010-03-29</td>\n",
       "      <td>Universal Studios Singapore Experience</td>\n",
       "      <td>We finally visited Singapore's very first them...</td>\n",
       "      <td>Universal Studios Singapore</td>\n",
       "      <td>2010</td>\n",
       "      <td>29</td>\n",
       "      <td>3</td>\n",
       "    </tr>\n",
       "    <tr>\n",
       "      <th>50901</th>\n",
       "      <td>spoonos65</td>\n",
       "      <td>4.0</td>\n",
       "      <td>2010-03-28</td>\n",
       "      <td>Impressive but not quite finished!</td>\n",
       "      <td>We visited during the first week of its 'soft ...</td>\n",
       "      <td>Universal Studios Singapore</td>\n",
       "      <td>2010</td>\n",
       "      <td>28</td>\n",
       "      <td>3</td>\n",
       "    </tr>\n",
       "    <tr>\n",
       "      <th>50902</th>\n",
       "      <td>HeatSeekerWrexham_UK</td>\n",
       "      <td>4.0</td>\n",
       "      <td>2010-03-22</td>\n",
       "      <td>Small but beautifully marked</td>\n",
       "      <td>We visited on the 3rd day of the 'soft' openin...</td>\n",
       "      <td>Universal Studios Singapore</td>\n",
       "      <td>2010</td>\n",
       "      <td>22</td>\n",
       "      <td>3</td>\n",
       "    </tr>\n",
       "    <tr>\n",
       "      <th>50903</th>\n",
       "      <td>sc_myinitial</td>\n",
       "      <td>5.0</td>\n",
       "      <td>2010-02-24</td>\n",
       "      <td>Excellent Sneak Preview</td>\n",
       "      <td>My group managed to get the tickets for the 16...</td>\n",
       "      <td>Universal Studios Singapore</td>\n",
       "      <td>2010</td>\n",
       "      <td>24</td>\n",
       "      <td>2</td>\n",
       "    </tr>\n",
       "  </tbody>\n",
       "</table>\n",
       "<p>50904 rows × 9 columns</p>\n",
       "</div>"
      ],
      "text/plain": [
       "                   reviewer  rating written_date  \\\n",
       "0                   Kelly B     2.0   2021-05-30   \n",
       "1                       Jon     1.0   2021-05-30   \n",
       "2                   Nerdy P     2.0   2021-05-30   \n",
       "3                 ran101278     4.0   2021-05-29   \n",
       "4           tammies20132015     5.0   2021-05-28   \n",
       "...                     ...     ...          ...   \n",
       "50899                vinz20     4.0   2010-03-29   \n",
       "50900               betty l     4.0   2010-03-29   \n",
       "50901             spoonos65     4.0   2010-03-28   \n",
       "50902  HeatSeekerWrexham_UK     4.0   2010-03-22   \n",
       "50903          sc_myinitial     5.0   2010-02-24   \n",
       "\n",
       "                                                   title  \\\n",
       "0      Universal is a complete Disaster - stick with ...   \n",
       "1                                   Food is hard to get.   \n",
       "2                                           Disappointed   \n",
       "3                                             My opinion   \n",
       "4                      The Bourne Stuntacular...MUST SEE   \n",
       "...                                                  ...   \n",
       "50899                           I'll Be Back Only If ...   \n",
       "50900             Universal Studios Singapore Experience   \n",
       "50901                 Impressive but not quite finished!   \n",
       "50902                       Small but beautifully marked   \n",
       "50903                            Excellent Sneak Preview   \n",
       "\n",
       "                                             review_text  \\\n",
       "0      We went to Universal over Memorial Day weekend...   \n",
       "1      The food service is horrible. I’m not reviewin...   \n",
       "2      I booked this vacation mainly to ride Hagrid m...   \n",
       "3      When a person tries the test seat for the ride...   \n",
       "4      Ok, I can't stress enough to anyone and everyo...   \n",
       "...                                                  ...   \n",
       "50899  This is my first visit to a Universal Studio t...   \n",
       "50900  We finally visited Singapore's very first them...   \n",
       "50901  We visited during the first week of its 'soft ...   \n",
       "50902  We visited on the 3rd day of the 'soft' openin...   \n",
       "50903  My group managed to get the tickets for the 16...   \n",
       "\n",
       "                            branch  year  day  month  \n",
       "0        Universal Studios Florida  2021   30      5  \n",
       "1        Universal Studios Florida  2021   30      5  \n",
       "2        Universal Studios Florida  2021   30      5  \n",
       "3        Universal Studios Florida  2021   29      5  \n",
       "4        Universal Studios Florida  2021   28      5  \n",
       "...                            ...   ...  ...    ...  \n",
       "50899  Universal Studios Singapore  2010   29      3  \n",
       "50900  Universal Studios Singapore  2010   29      3  \n",
       "50901  Universal Studios Singapore  2010   28      3  \n",
       "50902  Universal Studios Singapore  2010   22      3  \n",
       "50903  Universal Studios Singapore  2010   24      2  \n",
       "\n",
       "[50904 rows x 9 columns]"
      ]
     },
     "execution_count": 49,
     "metadata": {},
     "output_type": "execute_result"
    }
   ],
   "source": [
    "#ratings vs date\n",
    "#breaking data into date, month, and year\n",
    "universal['written_date'] = pd.to_datetime(universal['written_date'], format = '%Y%m%d')\n",
    "universal['year'] = pd.DatetimeIndex(universal['written_date']).year\n",
    "universal['day'] = pd.DatetimeIndex(universal['written_date']).day\n",
    "universal['month'] = pd.DatetimeIndex(universal['written_date']).month\n",
    "universal"
   ]
  },
  {
   "cell_type": "code",
   "execution_count": 55,
   "id": "182ce842",
   "metadata": {},
   "outputs": [
    {
     "name": "stdout",
     "output_type": "stream",
     "text": [
      "[2002, 2003, 2004, 2005, 2006, 2007, 2008, 2009, 2010, 2011, 2012, 2013, 2014, 2015, 2016, 2017, 2018, 2019, 2020, 2021]\n"
     ]
    }
   ],
   "source": [
    "print(sorted(universal['year'].unique()))\n"
   ]
  },
  {
   "cell_type": "code",
   "execution_count": 79,
   "id": "53af867d",
   "metadata": {},
   "outputs": [
    {
     "data": {
      "text/html": [
       "<div>\n",
       "<style scoped>\n",
       "    .dataframe tbody tr th:only-of-type {\n",
       "        vertical-align: middle;\n",
       "    }\n",
       "\n",
       "    .dataframe tbody tr th {\n",
       "        vertical-align: top;\n",
       "    }\n",
       "\n",
       "    .dataframe thead th {\n",
       "        text-align: right;\n",
       "    }\n",
       "</style>\n",
       "<table border=\"1\" class=\"dataframe\">\n",
       "  <thead>\n",
       "    <tr style=\"text-align: right;\">\n",
       "      <th></th>\n",
       "      <th>year</th>\n",
       "      <th>rating</th>\n",
       "    </tr>\n",
       "  </thead>\n",
       "  <tbody>\n",
       "    <tr>\n",
       "      <th>0</th>\n",
       "      <td>2021</td>\n",
       "      <td>2.0</td>\n",
       "    </tr>\n",
       "    <tr>\n",
       "      <th>1</th>\n",
       "      <td>2021</td>\n",
       "      <td>1.0</td>\n",
       "    </tr>\n",
       "    <tr>\n",
       "      <th>2</th>\n",
       "      <td>2021</td>\n",
       "      <td>2.0</td>\n",
       "    </tr>\n",
       "    <tr>\n",
       "      <th>3</th>\n",
       "      <td>2021</td>\n",
       "      <td>4.0</td>\n",
       "    </tr>\n",
       "    <tr>\n",
       "      <th>4</th>\n",
       "      <td>2021</td>\n",
       "      <td>5.0</td>\n",
       "    </tr>\n",
       "    <tr>\n",
       "      <th>...</th>\n",
       "      <td>...</td>\n",
       "      <td>...</td>\n",
       "    </tr>\n",
       "    <tr>\n",
       "      <th>50899</th>\n",
       "      <td>2010</td>\n",
       "      <td>4.0</td>\n",
       "    </tr>\n",
       "    <tr>\n",
       "      <th>50900</th>\n",
       "      <td>2010</td>\n",
       "      <td>4.0</td>\n",
       "    </tr>\n",
       "    <tr>\n",
       "      <th>50901</th>\n",
       "      <td>2010</td>\n",
       "      <td>4.0</td>\n",
       "    </tr>\n",
       "    <tr>\n",
       "      <th>50902</th>\n",
       "      <td>2010</td>\n",
       "      <td>4.0</td>\n",
       "    </tr>\n",
       "    <tr>\n",
       "      <th>50903</th>\n",
       "      <td>2010</td>\n",
       "      <td>5.0</td>\n",
       "    </tr>\n",
       "  </tbody>\n",
       "</table>\n",
       "<p>50904 rows × 2 columns</p>\n",
       "</div>"
      ],
      "text/plain": [
       "       year  rating\n",
       "0      2021     2.0\n",
       "1      2021     1.0\n",
       "2      2021     2.0\n",
       "3      2021     4.0\n",
       "4      2021     5.0\n",
       "...     ...     ...\n",
       "50899  2010     4.0\n",
       "50900  2010     4.0\n",
       "50901  2010     4.0\n",
       "50902  2010     4.0\n",
       "50903  2010     5.0\n",
       "\n",
       "[50904 rows x 2 columns]"
      ]
     },
     "execution_count": 79,
     "metadata": {},
     "output_type": "execute_result"
    }
   ],
   "source": [
    "#break data into year and rating\n",
    "yearrat = universal[['year', 'rating']]\n",
    "yearrat"
   ]
  },
  {
   "cell_type": "code",
   "execution_count": 84,
   "id": "d307a213",
   "metadata": {},
   "outputs": [
    {
     "data": {
      "text/html": [
       "<div>\n",
       "<style scoped>\n",
       "    .dataframe tbody tr th:only-of-type {\n",
       "        vertical-align: middle;\n",
       "    }\n",
       "\n",
       "    .dataframe tbody tr th {\n",
       "        vertical-align: top;\n",
       "    }\n",
       "\n",
       "    .dataframe thead th {\n",
       "        text-align: right;\n",
       "    }\n",
       "</style>\n",
       "<table border=\"1\" class=\"dataframe\">\n",
       "  <thead>\n",
       "    <tr style=\"text-align: right;\">\n",
       "      <th></th>\n",
       "      <th>year</th>\n",
       "      <th>rating</th>\n",
       "      <th>count</th>\n",
       "    </tr>\n",
       "  </thead>\n",
       "  <tbody>\n",
       "    <tr>\n",
       "      <th>0</th>\n",
       "      <td>2002</td>\n",
       "      <td>1.0</td>\n",
       "      <td>1</td>\n",
       "    </tr>\n",
       "    <tr>\n",
       "      <th>1</th>\n",
       "      <td>2003</td>\n",
       "      <td>4.0</td>\n",
       "      <td>3</td>\n",
       "    </tr>\n",
       "    <tr>\n",
       "      <th>2</th>\n",
       "      <td>2003</td>\n",
       "      <td>5.0</td>\n",
       "      <td>4</td>\n",
       "    </tr>\n",
       "    <tr>\n",
       "      <th>3</th>\n",
       "      <td>2004</td>\n",
       "      <td>1.0</td>\n",
       "      <td>9</td>\n",
       "    </tr>\n",
       "    <tr>\n",
       "      <th>4</th>\n",
       "      <td>2004</td>\n",
       "      <td>2.0</td>\n",
       "      <td>5</td>\n",
       "    </tr>\n",
       "    <tr>\n",
       "      <th>...</th>\n",
       "      <td>...</td>\n",
       "      <td>...</td>\n",
       "      <td>...</td>\n",
       "    </tr>\n",
       "    <tr>\n",
       "      <th>88</th>\n",
       "      <td>2021</td>\n",
       "      <td>1.0</td>\n",
       "      <td>87</td>\n",
       "    </tr>\n",
       "    <tr>\n",
       "      <th>89</th>\n",
       "      <td>2021</td>\n",
       "      <td>2.0</td>\n",
       "      <td>35</td>\n",
       "    </tr>\n",
       "    <tr>\n",
       "      <th>90</th>\n",
       "      <td>2021</td>\n",
       "      <td>3.0</td>\n",
       "      <td>29</td>\n",
       "    </tr>\n",
       "    <tr>\n",
       "      <th>91</th>\n",
       "      <td>2021</td>\n",
       "      <td>4.0</td>\n",
       "      <td>42</td>\n",
       "    </tr>\n",
       "    <tr>\n",
       "      <th>92</th>\n",
       "      <td>2021</td>\n",
       "      <td>5.0</td>\n",
       "      <td>92</td>\n",
       "    </tr>\n",
       "  </tbody>\n",
       "</table>\n",
       "<p>93 rows × 3 columns</p>\n",
       "</div>"
      ],
      "text/plain": [
       "    year  rating  count\n",
       "0   2002     1.0      1\n",
       "1   2003     4.0      3\n",
       "2   2003     5.0      4\n",
       "3   2004     1.0      9\n",
       "4   2004     2.0      5\n",
       "..   ...     ...    ...\n",
       "88  2021     1.0     87\n",
       "89  2021     2.0     35\n",
       "90  2021     3.0     29\n",
       "91  2021     4.0     42\n",
       "92  2021     5.0     92\n",
       "\n",
       "[93 rows x 3 columns]"
      ]
     },
     "execution_count": 84,
     "metadata": {},
     "output_type": "execute_result"
    }
   ],
   "source": [
    "#count of ratings per year\n",
    "yearratbreak1 = yearrat.groupby(['year', 'rating']).size().reset_index(name = 'count')\n",
    "yearratbreak1"
   ]
  },
  {
   "cell_type": "code",
   "execution_count": 140,
   "id": "dc7aa18c",
   "metadata": {},
   "outputs": [],
   "source": [
    "rat1 = yearratbreak1.loc[yearratbreak1['rating'] == 1.0]\n",
    "rat1\n",
    "\n",
    "rat1count = [1, 0, 9, 6, 9, 11, 14, 17, 38, 46, 79, 117, 169, 227, 253, 206, 288, 297, 99, 87]"
   ]
  },
  {
   "cell_type": "code",
   "execution_count": 141,
   "id": "23d97a0f",
   "metadata": {},
   "outputs": [],
   "source": [
    "rat2 = yearratbreak1.loc[yearratbreak1['rating'] == 2.0]\n",
    "rat2\n",
    "\n",
    "rat2count = [0, 0, 5, 7, 10, 13, 14, 17, 56, 70, 98, 138, 220, 268, 286, 229, 239, 228, 53, 35]"
   ]
  },
  {
   "cell_type": "code",
   "execution_count": 142,
   "id": "8e5e0cec",
   "metadata": {},
   "outputs": [],
   "source": [
    "rat3 = yearratbreak1.loc[yearratbreak1['rating'] == 3.0]\n",
    "rat3\n",
    "\n",
    "rat3count = [0, 0, 4, 3, 7, 3, 7, 32, 68, 159, 260, 425, 622, 852, 850, 648, 644, 503, 113, 29]"
   ]
  },
  {
   "cell_type": "code",
   "execution_count": 143,
   "id": "785993df",
   "metadata": {},
   "outputs": [],
   "source": [
    "rat4 = yearratbreak1.loc[yearratbreak1['rating'] == 4.0]\n",
    "rat4\n",
    "\n",
    "rat4count = [0, 3, 11, 5, 11, 19, 32, 37, 124, 329, 738, 1149, 1574, 2393, 2489, 1848, 1448, 1052, 210, 42]"
   ]
  },
  {
   "cell_type": "code",
   "execution_count": 144,
   "id": "21aa679b",
   "metadata": {},
   "outputs": [],
   "source": [
    "rat5 = yearratbreak1.loc[yearratbreak1['rating'] == 5.0]\n",
    "rat5 \n",
    "rat5count = [0, 4, 28, 19, 23, 34, 27, 66, 128, 394, 1095, 1960, 2867, 5361, 5422, 4212, 3556, 2390, 524, 92]"
   ]
  },
  {
   "cell_type": "code",
   "execution_count": 150,
   "id": "298cb3e4",
   "metadata": {},
   "outputs": [
    {
     "data": {
      "text/plain": [
       "[2002,\n",
       " 2003,\n",
       " 2004,\n",
       " 2005,\n",
       " 2006,\n",
       " 2007,\n",
       " 2008,\n",
       " 2009,\n",
       " 2010,\n",
       " 2011,\n",
       " 2012,\n",
       " 2013,\n",
       " 2014,\n",
       " 2015,\n",
       " 2016,\n",
       " 2017,\n",
       " 2018,\n",
       " 2019,\n",
       " 2020,\n",
       " 2021]"
      ]
     },
     "execution_count": 150,
     "metadata": {},
     "output_type": "execute_result"
    }
   ],
   "source": [
    "#ratings per year\n",
    "\n",
    "year = list(range(2002, 2022, 1))\n",
    "year"
   ]
  },
  {
   "cell_type": "code",
   "execution_count": 158,
   "id": "f179d739",
   "metadata": {},
   "outputs": [
    {
     "data": {
      "text/plain": [
       "Text(0.5, 1.0, 'Universal Studios Ratings by Year')"
      ]
     },
     "execution_count": 158,
     "metadata": {},
     "output_type": "execute_result"
    },
    {
     "data": {
      "image/png": "[encoded data removed]",
      "text/plain": [
       "<Figure size 864x576 with 1 Axes>"
      ]
     },
     "metadata": {
      "needs_background": "light"
     },
     "output_type": "display_data"
    }
   ],
   "source": [
    "#barchart of rating by year\n",
    "fig  = plt.subplots(figsize = (12, 8))\n",
    "barWidth = 0.25\n",
    "\n",
    "#set position of bar on X axis\n",
    "br1 = np.arange(len(year))\n",
    "br2 = [x + barWidth for x in br1]\n",
    "br3 = [x + barWidth for x in br2]\n",
    "br4 = [x + barWidth for x in br3]\n",
    "br5 = [x + barWidth for x in br4]\n",
    "\n",
    "#Make plot\n",
    "plt.bar(br1, rat1count, color = 'cyan', width = barWidth, label = 'Rating 1')\n",
    "plt.bar(br2, rat2count, color = 'black', width = barWidth, label = 'Rating 2')\n",
    "plt.bar(br3, rat3count, color = 'green', width = barWidth, label = 'Rating 3')\n",
    "plt.bar(br4, rat4count, color = 'red', width = barWidth, label = 'Rating 4')\n",
    "plt.bar(br5, rat5count, color = 'blue', width = barWidth, label = 'Rating 5')\n",
    "\n",
    "#Adding ticks\n",
    "plt.xlabel('Year')\n",
    "plt.ylabel('Frequency')\n",
    "plt.xticks([r + barWidth for r in range(len(year))], ['2002', '2003', '2004', '2005', '2006','2007','2008','2009','2010','2011','2012', '2013', '2014','2015','2016','2017', '2018','2019','2020','2021'])\n",
    "\n",
    "plt.legend()\n",
    "plt.title('Universal Studios Ratings by Year')"
   ]
  },
  {
   "cell_type": "code",
   "execution_count": 176,
   "id": "e583b0eb",
   "metadata": {},
   "outputs": [
    {
     "data": {
      "text/plain": [
       "Text(0.5, 1.0, 'Stacked Barchart Universal Studios Ratings by Year')"
      ]
     },
     "execution_count": 176,
     "metadata": {},
     "output_type": "execute_result"
    },
    {
     "data": {
      "image/png": "[encoded data removed]",
      "text/plain": [
       "<Figure size 864x576 with 1 Axes>"
      ]
     },
     "metadata": {
      "needs_background": "light"
     },
     "output_type": "display_data"
    }
   ],
   "source": [
    "#stacked barplot\n",
    "fig  = plt.subplots(figsize = (12, 8))\n",
    "plt.bar(year, rat1count, color = 'cyan', width = barWidth, label = 'Rating 1')\n",
    "plt.bar(year, rat2count, bottom = rat1count, color = 'black', width = barWidth, label = 'Rating 2')\n",
    "plt.bar(year, rat3count, bottom = rat2count, color = 'green', width = barWidth, label = 'Rating 3')\n",
    "plt.bar(year, rat4count, bottom = rat3count, color = 'red', width = barWidth, label = 'Rating 4')\n",
    "plt.bar(year, rat5count, bottom = rat4count, color = 'blue', width = barWidth, label = 'Rating 5')\n",
    "\n",
    "#Adding ticks\n",
    "plt.xlabel('Year')\n",
    "plt.ylabel('Frequency')\n",
    "plt.xticks(year)\n",
    "\n",
    "plt.legend()\n",
    "plt.title('Stacked Barchart Universal Studios Ratings by Year')\n"
   ]
  },
  {
   "cell_type": "code",
   "execution_count": 196,
   "id": "f5f41901",
   "metadata": {},
   "outputs": [
    {
     "ename": "TypeError",
     "evalue": "list indices must be integers or slices, not tuple",
     "output_type": "error",
     "traceback": [
      "\u001b[0;31m---------------------------------------------------------------------------\u001b[0m",
      "\u001b[0;31mTypeError\u001b[0m                                 Traceback (most recent call last)",
      "\u001b[0;32m<ipython-input-196-459f4044ebb0>\u001b[0m in \u001b[0;36m<module>\u001b[0;34m\u001b[0m\n\u001b[1;32m      6\u001b[0m \u001b[0mrat5countdf\u001b[0m \u001b[0;34m=\u001b[0m \u001b[0mpd\u001b[0m\u001b[0;34m.\u001b[0m\u001b[0mDataFrame\u001b[0m\u001b[0;34m(\u001b[0m\u001b[0mrat5count\u001b[0m\u001b[0;34m,\u001b[0m \u001b[0mcolumns\u001b[0m \u001b[0;34m=\u001b[0m \u001b[0;34m[\u001b[0m\u001b[0;34m'Rating 5'\u001b[0m\u001b[0;34m]\u001b[0m\u001b[0;34m)\u001b[0m\u001b[0;34m\u001b[0m\u001b[0;34m\u001b[0m\u001b[0m\n\u001b[1;32m      7\u001b[0m \u001b[0;34m\u001b[0m\u001b[0m\n\u001b[0;32m----> 8\u001b[0;31m \u001b[0myearratdf\u001b[0m\u001b[0;34m[\u001b[0m\u001b[0;34m'Rating 1'\u001b[0m\u001b[0;34m,\u001b[0m \u001b[0;34m'Rating 2'\u001b[0m\u001b[0;34m,\u001b[0m \u001b[0;34m'Rating 3'\u001b[0m\u001b[0;34m,\u001b[0m \u001b[0;34m'Rating 4'\u001b[0m\u001b[0;34m,\u001b[0m \u001b[0;34m'Rating 5'\u001b[0m\u001b[0;34m]\u001b[0m \u001b[0;34m=\u001b[0m \u001b[0mrat1countdf\u001b[0m \u001b[0;34m+\u001b[0m \u001b[0mrat2countdf\u001b[0m \u001b[0;34m+\u001b[0m \u001b[0mrat3countdf\u001b[0m \u001b[0;34m+\u001b[0m \u001b[0mrat4countdf\u001b[0m \u001b[0;34m+\u001b[0m \u001b[0mrat5countdf\u001b[0m\u001b[0;34m\u001b[0m\u001b[0;34m\u001b[0m\u001b[0m\n\u001b[0m\u001b[1;32m      9\u001b[0m \u001b[0myearratdf\u001b[0m\u001b[0;34m\u001b[0m\u001b[0;34m\u001b[0m\u001b[0m\n",
      "\u001b[0;31mTypeError\u001b[0m: list indices must be integers or slices, not tuple"
     ]
    }
   ],
   "source": [
    "#create dataframe for year and rating analysis\n",
    "rat1countdf = pd.DataFrame(rat1count, columns = ['Rating 1'])\n",
    "rat2countdf = pd.DataFrame(rat2count, columns = ['Rating 2'])\n",
    "rat3countdf = pd.DataFrame(rat3count, columns = ['Rating 3'])\n",
    "rat4countdf = pd.DataFrame(rat4count, columns = ['Rating 4'])\n",
    "rat5countdf = pd.DataFrame(rat5count, columns = ['Rating 5'])\n",
    "\n",
    "yearratdf['Rating 1', 'Rating 2', 'Rating 3', 'Rating 4', 'Rating 5'] = rat1countdf + rat2countdf + rat3countdf + rat4countdf + rat5countdf\n",
    "yearratdf"
   ]
  },
  {
   "cell_type": "code",
   "execution_count": 190,
   "id": "dc0322a0",
   "metadata": {},
   "outputs": [
    {
     "ename": "AttributeError",
     "evalue": "module 'pandas' has no attribute 'Dataframe'",
     "output_type": "error",
     "traceback": [
      "\u001b[0;31m---------------------------------------------------------------------------\u001b[0m",
      "\u001b[0;31mAttributeError\u001b[0m                            Traceback (most recent call last)",
      "\u001b[0;32m<ipython-input-190-749a1353f9e9>\u001b[0m in \u001b[0;36m<module>\u001b[0;34m\u001b[0m\n\u001b[0;32m----> 1\u001b[0;31m \u001b[0mrat2countdf\u001b[0m \u001b[0;34m=\u001b[0m \u001b[0mpd\u001b[0m\u001b[0;34m.\u001b[0m\u001b[0mDataframe\u001b[0m\u001b[0;34m(\u001b[0m\u001b[0mrat2count\u001b[0m\u001b[0;34m,\u001b[0m \u001b[0mcolumns\u001b[0m \u001b[0;34m=\u001b[0m \u001b[0;34m[\u001b[0m\u001b[0;34m'Rating 2'\u001b[0m\u001b[0;34m]\u001b[0m\u001b[0;34m)\u001b[0m\u001b[0;34m\u001b[0m\u001b[0;34m\u001b[0m\u001b[0m\n\u001b[0m\u001b[1;32m      2\u001b[0m \u001b[0mrat3countdf\u001b[0m \u001b[0;34m=\u001b[0m \u001b[0mpd\u001b[0m\u001b[0;34m.\u001b[0m\u001b[0mDataFrame\u001b[0m\u001b[0;34m(\u001b[0m\u001b[0mrat3count\u001b[0m\u001b[0;34m,\u001b[0m \u001b[0mcolumns\u001b[0m \u001b[0;34m=\u001b[0m \u001b[0;34m[\u001b[0m\u001b[0;34m'Rating 3'\u001b[0m\u001b[0;34m]\u001b[0m\u001b[0;34m)\u001b[0m\u001b[0;34m\u001b[0m\u001b[0;34m\u001b[0m\u001b[0m\n\u001b[1;32m      3\u001b[0m \u001b[0mrat4countdf\u001b[0m \u001b[0;34m=\u001b[0m \u001b[0mpd\u001b[0m\u001b[0;34m.\u001b[0m\u001b[0mDataFrame\u001b[0m\u001b[0;34m(\u001b[0m\u001b[0mrat4count\u001b[0m\u001b[0;34m,\u001b[0m \u001b[0mcolumns\u001b[0m \u001b[0;34m=\u001b[0m \u001b[0;34m[\u001b[0m\u001b[0;34m'Rating 4'\u001b[0m\u001b[0;34m]\u001b[0m\u001b[0;34m)\u001b[0m\u001b[0;34m\u001b[0m\u001b[0;34m\u001b[0m\u001b[0m\n\u001b[1;32m      4\u001b[0m \u001b[0mrat5countdf\u001b[0m \u001b[0;34m=\u001b[0m \u001b[0mpd\u001b[0m\u001b[0;34m.\u001b[0m\u001b[0mDataFrame\u001b[0m\u001b[0;34m(\u001b[0m\u001b[0mrat5count\u001b[0m\u001b[0;34m,\u001b[0m \u001b[0mcolumns\u001b[0m \u001b[0;34m=\u001b[0m \u001b[0;34m[\u001b[0m\u001b[0;34m'Rating 5'\u001b[0m\u001b[0;34m]\u001b[0m\u001b[0;34m)\u001b[0m\u001b[0;34m\u001b[0m\u001b[0;34m\u001b[0m\u001b[0m\n",
      "\u001b[0;32m~/opt/anaconda3/lib/python3.8/site-packages/pandas/__init__.py\u001b[0m in \u001b[0;36m__getattr__\u001b[0;34m(name)\u001b[0m\n\u001b[1;32m    242\u001b[0m         \u001b[0;32mreturn\u001b[0m \u001b[0m_SparseArray\u001b[0m\u001b[0;34m\u001b[0m\u001b[0;34m\u001b[0m\u001b[0m\n\u001b[1;32m    243\u001b[0m \u001b[0;34m\u001b[0m\u001b[0m\n\u001b[0;32m--> 244\u001b[0;31m     \u001b[0;32mraise\u001b[0m \u001b[0mAttributeError\u001b[0m\u001b[0;34m(\u001b[0m\u001b[0;34mf\"module 'pandas' has no attribute '{name}'\"\u001b[0m\u001b[0;34m)\u001b[0m\u001b[0;34m\u001b[0m\u001b[0;34m\u001b[0m\u001b[0m\n\u001b[0m\u001b[1;32m    245\u001b[0m \u001b[0;34m\u001b[0m\u001b[0m\n\u001b[1;32m    246\u001b[0m \u001b[0;34m\u001b[0m\u001b[0m\n",
      "\u001b[0;31mAttributeError\u001b[0m: module 'pandas' has no attribute 'Dataframe'"
     ]
    }
   ],
   "source": []
  },
  {
   "cell_type": "code",
   "execution_count": null,
   "id": "3bed23f7",
   "metadata": {},
   "outputs": [],
   "source": [
    "#Normalized stacked barplot\n",
    "normalize_min = 0.1\n",
    "normalize_max = 1\n",
    "\n",
    "\n",
    "#Normalize\n",
    "\n",
    "\n",
    "\n",
    "plt.bar(year, rat1count, color = 'cyan', width = barWidth)\n",
    "plt.bar(year, rat2count, bottom = rat1count, color = 'black', width = barWidth)\n",
    "plt.bar(year, rat3count, bottom = rat2count, color = 'green', width = barWidth)\n",
    "plt.bar(year, rat4count, bottom = rat3count, color = 'red', width = barWidth)\n",
    "plt.bar(year, rat5count, bottom = rat4count, color = 'blue', width = barWidth)"
   ]
  },
  {
   "cell_type": "code",
   "execution_count": null,
   "id": "3454aece",
   "metadata": {},
   "outputs": [],
   "source": []
  }
 ],
 "metadata": {
  "kernelspec": {
   "display_name": "Python 3",
   "language": "python",
   "name": "python3"
  },
  "language_info": {
   "codemirror_mode": {
    "name": "ipython",
    "version": 3
   },
   "file_extension": ".py",
   "mimetype": "text/x-python",
   "name": "python",
   "nbconvert_exporter": "python",
   "pygments_lexer": "ipython3",
   "version": "3.8.8"
  }
 },
 "nbformat": 4,
 "nbformat_minor": 5
}
